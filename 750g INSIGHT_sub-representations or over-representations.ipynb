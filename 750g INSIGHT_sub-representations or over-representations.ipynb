{
 "cells": [
  {
   "cell_type": "code",
   "execution_count": 182,
   "metadata": {
    "collapsed": true
   },
   "outputs": [],
   "source": [
    "#On entre un élément en entrée\n",
    "\n",
    "mot=['moutarde']"
   ]
  },
  {
   "cell_type": "code",
   "execution_count": 183,
   "metadata": {
    "collapsed": false
   },
   "outputs": [
    {
     "data": {
      "text/plain": [
       "<pyspark.context.SparkContext at 0x7f51e4156e50>"
      ]
     },
     "execution_count": 183,
     "metadata": {},
     "output_type": "execute_result"
    }
   ],
   "source": [
    "sc"
   ]
  },
  {
   "cell_type": "code",
   "execution_count": 184,
   "metadata": {
    "collapsed": false
   },
   "outputs": [
    {
     "data": {
      "text/plain": [
       "u'2.1.0'"
      ]
     },
     "execution_count": 184,
     "metadata": {},
     "output_type": "execute_result"
    }
   ],
   "source": [
    "spark.version"
   ]
  },
  {
   "cell_type": "code",
   "execution_count": 185,
   "metadata": {
    "collapsed": false
   },
   "outputs": [],
   "source": [
    "# -*- coding: utf-8 -*-\n",
    "import numpy as np\n",
    "import datetime as tm\n",
    "import json\n",
    "import pandas as pd\n",
    "from pyspark.storagelevel import StorageLevel\n",
    "from pyspark.sql import *\n",
    "from pyspark.sql import SQLContext, Row\n",
    "from pyspark.sql.types import *\n",
    "from pyspark import SparkConf, SparkContext, HiveContext\n",
    "from pyspark.sql.window import Window\n",
    "import pyspark.sql.functions as F\n",
    "import cPickle\n",
    "import matplotlib.pyplot as plt\n",
    "%matplotlib inline\n",
    "import seaborn as sns\n",
    "sns.set_style('whitegrid')\n",
    "from tr_utils import *\n",
    "\n",
    "adv = 656228\n",
    "dates = get_period('2017-06-07', '2017-06-14')\n",
    "path = 'gs://tr-parquet/its_panel/'\n",
    "dfs = []\n",
    "for date in dates:\n",
    "    dfs += [sqlContext.read.load(path+date+'/ad='+str(adv))]\n",
    "    \n",
    "data = reduce(lambda x, y: x.unionAll(y), dfs)\n",
    "\n"
   ]
  },
  {
   "cell_type": "code",
   "execution_count": 186,
   "metadata": {
    "collapsed": true
   },
   "outputs": [],
   "source": [
    "#On récupère les données sous forme d'un DataFrame\n",
    "dl = data.filter((F.col('ty')=='datalayer')&(F.col('id2')!='')&(F.col('id2')!=-1)&(F.col('id2')!=0))\n",
    "\n",
    "test = spark.read.json(dl.limit(1000).rdd.map(lambda x: x.dl))\n",
    "schema = test.schema\n",
    "with open('schema_dl_jv.pickle', 'w') as f:\n",
    "    cPickle.dump(schema, f)\n",
    "    \n",
    "dl_parsed = dl.withColumn('dl2', F.from_json('dl', schema))"
   ]
  },
  {
   "cell_type": "code",
   "execution_count": 187,
   "metadata": {
    "collapsed": false
   },
   "outputs": [],
   "source": [
    "dl_parsed.printSchema()"
   ]
  },
  {
   "cell_type": "code",
   "execution_count": 188,
   "metadata": {
    "collapsed": false
   },
   "outputs": [],
   "source": [
    "#On sélectionne les identifiants des users, les recettes consultées ainsi que les ingrédients associés aux recettes\n",
    "#Les ingrédients ne sont pas donnés comme des mots clés, mais avec la quantité associée (sous forme de phrase..)\n",
    "df=dl_parsed.select('dl2.ses.uuid2','dl2.dataLayer.sectionData.averageScore','dl2.dataLayer.sectionData.title','dl2.dataLayer.sectionData.difficulty',\n",
    "                    'dl2.dataLayer.sectionData.cost','dl2.dataLayer.sectionData.ingredients','dl2.dataLayer.sectionData.tags','dl2.dataLayer.sectionData.time')"
   ]
  },
  {
   "cell_type": "code",
   "execution_count": 180,
   "metadata": {
    "collapsed": false
   },
   "outputs": [],
   "source": [
    "df.show(truncate=False)"
   ]
  },
  {
   "cell_type": "code",
   "execution_count": 181,
   "metadata": {
    "collapsed": true
   },
   "outputs": [],
   "source": [
    "def setup(u):\n",
    "    if u!=None:\n",
    "        if u[1]!=None:\n",
    "            return float(u[1])\n",
    "        else:\n",
    "            return 0.0\n",
    "    else:\n",
    "        return None"
   ]
  },
  {
   "cell_type": "code",
   "execution_count": 10,
   "metadata": {
    "collapsed": true
   },
   "outputs": [],
   "source": [
    "setup_=F.udf(setup,FloatType())"
   ]
  },
  {
   "cell_type": "code",
   "execution_count": 11,
   "metadata": {
    "collapsed": true
   },
   "outputs": [],
   "source": [
    "def cooking(u):\n",
    "    if u!=None:\n",
    "        if u[0]!=None:\n",
    "            return float(u[0])\n",
    "        else:\n",
    "            return 0.0\n",
    "    else:\n",
    "        return None"
   ]
  },
  {
   "cell_type": "code",
   "execution_count": 12,
   "metadata": {
    "collapsed": true
   },
   "outputs": [],
   "source": [
    "cooking_=F.udf(cooking,FloatType())"
   ]
  },
  {
   "cell_type": "code",
   "execution_count": 13,
   "metadata": {
    "collapsed": true
   },
   "outputs": [],
   "source": [
    "df=df.select('uuid2','averageScore','title','difficulty',\n",
    "                    'cost','ingredients','tags','time',setup_('time').alias('setup'),cooking_('time').alias('cooking'))"
   ]
  },
  {
   "cell_type": "code",
   "execution_count": null,
   "metadata": {
    "collapsed": true
   },
   "outputs": [],
   "source": []
  },
  {
   "cell_type": "code",
   "execution_count": 15,
   "metadata": {
    "collapsed": false
   },
   "outputs": [],
   "source": [
    "#On regroupe dans une même ligne toutes les données relatives à un user: recettes et ingrédients associés à ces recettes\n",
    "from pyspark.sql.functions import collect_list\n",
    "df=df.dropDuplicates()\n",
    "grouped = df.groupBy(['uuid2']).agg(collect_list(\"title\").alias('listerecettes'),collect_list(\"ingredients\").alias('ingredientsrecettes'),\n",
    "                                    collect_list(\"difficulty\").alias('listedifficulty'),collect_list(\"cost\").alias('listecost'),collect_list(\"tags\").alias('listetags'),\n",
    "                                    collect_list(\"averageScore\").alias('NotesMoyennes'),collect_list(\"setup\").alias('listesetup'),\n",
    "                                    collect_list(\"cooking\").alias('listecooking'))\n"
   ]
  },
  {
   "cell_type": "code",
   "execution_count": 16,
   "metadata": {
    "collapsed": false
   },
   "outputs": [
    {
     "data": {
      "text/plain": [
       "Row(uuid2=u'1005488911830817536', listerecettes=[u'Verrine fraises et biscuits'], ingredientsrecettes=[u'1 c a s bombee de fructose;30g de biscuits emiettes;10 cl de creme liquide 4 de m g;1 yaourt nature 0 m g;250g de ricotta;150g de fraises'], listedifficulty=[2], listecost=[2], listetags=[Row(primary=[u'verrines_de_fraises', u'verrines_aux_biscuits', u'verrines_de_fruits_rouges', u'verrines_de_fruits', u'verrines_de_fraises_et_biscuits', u'fraises', u'biscuits', u'desserts', u'gouter'], secondary=[u'verrine_de_fraises', u'verrine_de_biscuits', u'verrine_de_fruits_rouges', u'verrine_de_fruits', u'verrine_fraise_biscuit', u'fraises', u'biscuits', u'desserts', u'gouters'])], NotesMoyennes=[4.3], listesetup=[10.0], listecooking=[0.0])"
      ]
     },
     "execution_count": 16,
     "metadata": {},
     "output_type": "execute_result"
    }
   ],
   "source": [
    "grouped.head()"
   ]
  },
  {
   "cell_type": "code",
   "execution_count": null,
   "metadata": {
    "collapsed": true
   },
   "outputs": [],
   "source": []
  },
  {
   "cell_type": "code",
   "execution_count": null,
   "metadata": {
    "collapsed": true
   },
   "outputs": [],
   "source": []
  },
  {
   "cell_type": "code",
   "execution_count": 17,
   "metadata": {
    "collapsed": false
   },
   "outputs": [],
   "source": [
    "#on veut construire une liste contenant tous les mots de la liste d'ingrédients, en se débarassant dans un premier temps \n",
    "#des quantités, puis des stopwords à l'aide de la commande existante du package NLTK.\n",
    "#On se débarasse également des lettres seules exclues, provenant d'abréviations comme c a s pour 'cuillière à soupe', \n",
    "#g pour grammes, mg, kg etc.\n",
    "\n",
    "import re\n",
    "from nltk.corpus import stopwords\n",
    "from pyspark.ml.feature import StopWordsRemover\n",
    "\n",
    "list_nb = '0 1 2 3 4 5 6 7 8 9'.split()\n",
    "list_lt='a b c d e f g h i j k l m n o p q r s t u v w kg mg gr cl ml dl cuil'.split()\n",
    "stopwords=StopWordsRemover.loadDefaultStopWords('french')\n",
    "\n",
    "def transform (l):\n",
    "    return [mot for recette in l for mot in re.split(' |;',''.join([i if i not in list_nb else '' for i in recette ])) if mot!='' if mot not in stopwords and mot not in list_lt] "
   ]
  },
  {
   "cell_type": "code",
   "execution_count": 18,
   "metadata": {
    "collapsed": false
   },
   "outputs": [],
   "source": [
    "transform_df  = F.udf(transform,ArrayType(StringType()))"
   ]
  },
  {
   "cell_type": "code",
   "execution_count": 19,
   "metadata": {
    "collapsed": false
   },
   "outputs": [],
   "source": [
    "grouped2=grouped.select('uuid2','listerecettes',transform_df('ingredientsrecettes').alias('ingredientsrecettes2'),'listedifficulty',\n",
    "                        'listecost','listetags','NotesMoyennes','listesetup','listecooking')"
   ]
  },
  {
   "cell_type": "code",
   "execution_count": 21,
   "metadata": {
    "collapsed": true
   },
   "outputs": [],
   "source": [
    "#On calcule, pour chaque user, la moyenne des notes, coûts, temps de préparation, scores de difficulté des recettes qu'il a consultés\n",
    "def moyenne(u):\n",
    "    try:\n",
    "        l=[float(int(i))for i in u]\n",
    "        return float(int(float(sum(l))/float(len(l))))\n",
    "    except:\n",
    "        return None"
   ]
  },
  {
   "cell_type": "code",
   "execution_count": 22,
   "metadata": {
    "collapsed": true
   },
   "outputs": [],
   "source": [
    "moyenne_=F.udf(moyenne,FloatType())"
   ]
  },
  {
   "cell_type": "code",
   "execution_count": 23,
   "metadata": {
    "collapsed": false
   },
   "outputs": [],
   "source": [
    "grouped2=grouped2.select('uuid2','listerecettes','ingredientsrecettes2',moyenne_('listedifficulty').alias('difficulty'),\n",
    "                         moyenne_('listecost').alias('cost'),'listetags',moyenne_('listesetup').alias('setup'),moyenne_('listecooking').alias('cooking'),\n",
    "                         moyenne_('NotesMoyennes').alias('note'))"
   ]
  },
  {
   "cell_type": "code",
   "execution_count": null,
   "metadata": {
    "collapsed": true
   },
   "outputs": [],
   "source": []
  },
  {
   "cell_type": "code",
   "execution_count": 25,
   "metadata": {
    "collapsed": true
   },
   "outputs": [],
   "source": [
    "#On sélectionne les individus qui ont visionné au moins une recette contenant l'ingrédient entré au début du notebook\n",
    "def isin(u):\n",
    "    for m in mot:\n",
    "        if m in u:\n",
    "            return 1.0\n",
    "            break\n",
    "        else:\n",
    "            return 0.0"
   ]
  },
  {
   "cell_type": "code",
   "execution_count": 26,
   "metadata": {
    "collapsed": true
   },
   "outputs": [],
   "source": [
    "isin_=F.udf(isin,FloatType())"
   ]
  },
  {
   "cell_type": "code",
   "execution_count": 27,
   "metadata": {
    "collapsed": true
   },
   "outputs": [],
   "source": [
    "groupedmot=grouped2.select('uuid2','listerecettes','ingredientsrecettes2',isin_('ingredientsrecettes2').alias('isin'),\n",
    "                              'difficulty','cost','listetags','note','setup','cooking')"
   ]
  },
  {
   "cell_type": "code",
   "execution_count": 28,
   "metadata": {
    "collapsed": true
   },
   "outputs": [],
   "source": [
    "groupedmot=groupedmot.filter(groupedmot.isin==1.0)"
   ]
  },
  {
   "cell_type": "code",
   "execution_count": null,
   "metadata": {
    "collapsed": true
   },
   "outputs": [],
   "source": [
    "#Entrée à la main de grands groupes d'aliments dont on désire voir ou non une surreprésentation dans les consultations de recettes de\n",
    "#nos consommateurs de l'ingrédient entré au début du notebook"
   ]
  },
  {
   "cell_type": "code",
   "execution_count": 30,
   "metadata": {
    "collapsed": false
   },
   "outputs": [],
   "source": [
    "listefruits=['abricot','ananas','banane','cassis','cerise','chataigne',\n",
    "'citron',\n",
    "'clémentine',\n",
    "'coing',\n",
    "'datte',\n",
    "'figue',\n",
    "'fraise',\n",
    "'framboise',\n",
    "'passion',\n",
    "'grenade',\n",
    "'groseille',\n",
    "'kaki',\n",
    "'kiwi',\n",
    "'kumquat',\n",
    "'kitchi',\n",
    "'mandarine',\n",
    "'mangue',\n",
    "'marron',\n",
    "'melon',\n",
    "'mirabelle',\n",
    "'mure',\n",
    "'myrtille',\n",
    "'nectarine',\n",
    "'noisette',\n",
    "'noix',\n",
    "'orange',\n",
    "'pamplemousse',\n",
    "'papaye',\n",
    "'pastèque',\n",
    "'pêche',\n",
    "'poire',\n",
    "'pomme',\n",
    "'prune',\n",
    "'quetsche',\n",
    "'raisin',\n",
    "'reine-claude']"
   ]
  },
  {
   "cell_type": "code",
   "execution_count": 31,
   "metadata": {
    "collapsed": true
   },
   "outputs": [],
   "source": [
    "listelegumes= ['ail',\n",
    "'artichaut',\n",
    "'asperge',\n",
    "'aubergine',\n",
    "'bette',\n",
    "'betterave',\n",
    "'brocoli',\n",
    "'carotte',\n",
    "'catalonia',\n",
    "'celeri',\n",
    "'chou' ,\n",
    "'citrouille',\n",
    "'concombre',\n",
    "'courge',\n",
    "'courgette',\n",
    "'cresson',\n",
    "'endive',\n",
    "'epinard',\n",
    "'fenouil',\n",
    "'haricot',\n",
    "'laitue',\n",
    "'mache',\n",
    "'mais',\n",
    "'navet',\n",
    "'oignon',\n",
    "'panais',\n",
    "'pois',\n",
    "'poireau',\n",
    "'poivron',\n",
    "'pomme de terre',\n",
    "'potimarron',\n",
    "'potiron',\n",
    "'radis',\n",
    "'salsifis',\n",
    "'topinambour',\n",
    "'avocat',\n",
    "'tomate']"
   ]
  },
  {
   "cell_type": "code",
   "execution_count": 32,
   "metadata": {
    "collapsed": true
   },
   "outputs": [],
   "source": [
    "listeviandes=['boeuf',\n",
    "'agneau',\n",
    "'cheval',\n",
    "'mouton',\n",
    "'abats',\n",
    "'gibier',\n",
    "'porc',\n",
    "'veau',\n",
    "'lapin',\n",
    "'volaille',\n",
    "'gibier',\n",
    "'jambon',\n",
    "'dinde',\n",
    "'bacon',\n",
    "'poulet']"
   ]
  },
  {
   "cell_type": "code",
   "execution_count": 33,
   "metadata": {
    "collapsed": true
   },
   "outputs": [],
   "source": [
    "listepoissons=['anchois',\n",
    "'anguille',\n",
    "'bar',\n",
    "'barbue',\n",
    "'baudroie',\n",
    "'bonite',\n",
    "'cabillaud',\n",
    "'morue',\n",
    "'colin',\n",
    "'dorade',\n",
    "'espadon',\n",
    "'haddock',\n",
    "'hareng',\n",
    "'lamproie',\n",
    "'lieu',\n",
    "'lotte',\n",
    "'maquereau',\n",
    "'merlan',\n",
    "'merlu',\n",
    "'merou',\n",
    "'mulet',\n",
    "'rouget',\n",
    "'requin',\n",
    "'sabre',\n",
    "'saumon',\n",
    "'saumonette',\n",
    "'sole',\n",
    "'thon',\n",
    "'truite',\n",
    "'turbot']"
   ]
  },
  {
   "cell_type": "code",
   "execution_count": null,
   "metadata": {
    "collapsed": true
   },
   "outputs": [],
   "source": []
  },
  {
   "cell_type": "code",
   "execution_count": 34,
   "metadata": {
    "collapsed": true
   },
   "outputs": [],
   "source": [
    "#analyse viande"
   ]
  },
  {
   "cell_type": "code",
   "execution_count": 35,
   "metadata": {
    "collapsed": false
   },
   "outputs": [],
   "source": [
    "#Fonction qui définit si l'individu a visité une recette contenant une viande\n",
    "def isinviande(u):\n",
    "    for i in listeviandes:\n",
    "        if i in u:\n",
    "            return 1.0\n",
    "            break\n",
    "        else:\n",
    "            return 0.0"
   ]
  },
  {
   "cell_type": "code",
   "execution_count": 36,
   "metadata": {
    "collapsed": true
   },
   "outputs": [],
   "source": [
    "isinviande_=F.udf(isinviande,FloatType())"
   ]
  },
  {
   "cell_type": "code",
   "execution_count": 37,
   "metadata": {
    "collapsed": false
   },
   "outputs": [],
   "source": [
    "groupedviande1=groupedmot.select('uuid2','listerecettes','ingredientsrecettes2',isinviande_('ingredientsrecettes2').alias('isinviande'),\n",
    "                              'difficulty','cost','listetags','note','setup','cooking')"
   ]
  },
  {
   "cell_type": "code",
   "execution_count": 38,
   "metadata": {
    "collapsed": false
   },
   "outputs": [
    {
     "name": "stdout",
     "output_type": "stream",
     "text": [
      "+-------------------+--------------------+--------------------+----------+----------+----+--------------------+----+-----+-------+\n",
      "|              uuid2|       listerecettes|ingredientsrecettes2|isinviande|difficulty|cost|           listetags|note|setup|cooking|\n",
      "+-------------------+--------------------+--------------------+----------+----------+----+--------------------+----+-----+-------+\n",
      "|1168571936604417458|[Wrap au thon et ...|[huile, olive, mo...|       0.0|       2.0| 1.0|[[WrappedArray(wr...| 3.0| 15.0|    0.0|\n",
      "|1241675771174869980|[Salade fa�on Ca�...|[vinaigre, blanc,...|       0.0|       2.0| 1.0|[[WrappedArray(sa...| 4.0| 20.0|   10.0|\n",
      "|1247862988755582166|[Tarte au thon et...|[fromage, rape, g...|       0.0|       1.0| 1.0|[[WrappedArray(ta...| 4.0|  5.0|   30.0|\n",
      "|1350591312933458002|[Pain de viande f...|[table, cassonade...|       1.0|       2.0| 2.0|[[WrappedArray(pa...| 4.0|  0.0|    0.0|\n",
      "|1376558862739121882|[Escargots � la s...|[piment, cayenne,...|       0.0|       1.0| 1.0|[[WrappedArray(es...| 4.0| 13.0|   12.0|\n",
      "|1381963771741743434|[Rillettes de tho...|[sel, poivre, que...|       0.0|       1.0| 1.0|[[WrappedArray(th...| 3.0| 15.0|    0.0|\n",
      "|1390475055244240365|[Pastels au thon,...|[concentre, tomat...|       1.0|       2.0| 1.0|[[WrappedArray(pa...| 3.0| 20.0|   13.0|\n",
      "| 144180375583434324|         [Pain pita]|[farine, levure, ...|       0.0|       3.0| 1.0|[[WrappedArray(pa...| 3.0| 15.0|    6.0|\n",
      "|1497914863785316257|[Couscous marocai...|[gingembre, poudr...|       1.0|       2.0| 2.0|[[WrappedArray(co...| 3.0| 40.0|   90.0|\n",
      "|1501154524489991546|[Flan aux!Sufs cl...|[sucre, cuillere,...|       0.0|       1.0| 1.0|[[WrappedArray(fl...| 3.0| 16.0|   28.0|\n",
      "|1514394928409019580|[Tarte aux l�gume...|[pate, brisee, po...|       0.0|       2.0| 2.0|[[WrappedArray(ta...| 4.0| 20.0|   25.0|\n",
      "|1547612448299587013|[Filet mignon sau...|[bouillon, cube, ...|       0.0|       1.0| 1.0|[[WrappedArray(po...| 3.0| 17.0|   60.0|\n",
      "|1562981982796464200|[Pav� de fl�tan s...|[echalote, huile,...|       0.0|       1.0| 1.0|[[WrappedArray(fl...| 4.0|  5.0|   10.0|\n",
      "|1674693923349073119|[Barbecues Ribs o...|[cafe, paprika, s...|       1.0|       1.0| 1.0|[[WrappedArray(po...| 3.0| 13.0|   15.0|\n",
      "|1675654583937265618|[Verrine � la p�c...|[sirop, peche, bi...|       0.0|       1.0| 1.0|[[WrappedArray(bo...| 4.0| 25.0|   30.0|\n",
      "|1715927412832232956|[Pav� de truite �...|[huile, olive, se...|       0.0|       2.0| 2.0|[[WrappedArray(pa...| 4.0| 15.0|   20.0|\n",
      "| 173262116753493125|[Filet mignon en ...|[huile, tournesol...|       0.0|       1.0| 2.0|[[WrappedArray(fi...| 3.0| 10.0|   30.0|\n",
      "|1738657772914260629|[Tarte aux l�gume...|[pate, brisee, po...|       0.0|       2.0| 2.0|[[WrappedArray(ta...| 4.0| 20.0|   25.0|\n",
      "|1807527520790974873|[Wok de poulet et...|[huile, olive, se...|       0.0|       1.0| 1.0|[[WrappedArray(wo...| 4.0| 13.0|   14.0|\n",
      "|1814877529102490549|[Pommes de terre ...|[grosses, pommes,...|       0.0|       1.0| 1.0|[[WrappedArray(po...| 4.0| 10.0|   60.0|\n",
      "+-------------------+--------------------+--------------------+----------+----------+----+--------------------+----+-----+-------+\n",
      "only showing top 20 rows\n",
      "\n"
     ]
    }
   ],
   "source": [
    "groupedviande1.show()"
   ]
  },
  {
   "cell_type": "code",
   "execution_count": 39,
   "metadata": {
    "collapsed": false
   },
   "outputs": [],
   "source": [
    "#Nombre de personnes qui ont visité au moins une recette contenant le mot en entrée et au moins une recette contenant une viande\n",
    "gr1=groupedviande1.filter(groupedviande1.isinviande==1.0).count()"
   ]
  },
  {
   "cell_type": "code",
   "execution_count": 41,
   "metadata": {
    "collapsed": false
   },
   "outputs": [
    {
     "data": {
      "text/plain": [
       "2609"
      ]
     },
     "execution_count": 41,
     "metadata": {},
     "output_type": "execute_result"
    }
   ],
   "source": [
    "gr1"
   ]
  },
  {
   "cell_type": "code",
   "execution_count": 42,
   "metadata": {
    "collapsed": false
   },
   "outputs": [],
   "source": [
    "#Nombre de personnes qui ont visité au moins une recette contenant le mot en entrée et aucune recette contenant une viande\n",
    "gr2=groupedmot.count()-gr1"
   ]
  },
  {
   "cell_type": "code",
   "execution_count": 43,
   "metadata": {
    "collapsed": false
   },
   "outputs": [
    {
     "data": {
      "text/plain": [
       "37230"
      ]
     },
     "execution_count": 43,
     "metadata": {},
     "output_type": "execute_result"
    }
   ],
   "source": [
    "gr2"
   ]
  },
  {
   "cell_type": "code",
   "execution_count": 44,
   "metadata": {
    "collapsed": false
   },
   "outputs": [],
   "source": [
    "#Pourcentage associé au groupe \"viande\" de l'échantillon test (pourcentage d'individus qui ont visité au moins une recette de viande),\n",
    "#celui qui contient les individus consommateurs de l'ingrédient entré au début du notebook\n",
    "pourcentage1=float(gr1)/float(gr1+gr2)"
   ]
  },
  {
   "cell_type": "code",
   "execution_count": 45,
   "metadata": {
    "collapsed": false
   },
   "outputs": [
    {
     "data": {
      "text/plain": [
       "0.06548859158111399"
      ]
     },
     "execution_count": 45,
     "metadata": {},
     "output_type": "execute_result"
    }
   ],
   "source": [
    "pourcentage1"
   ]
  },
  {
   "cell_type": "code",
   "execution_count": 46,
   "metadata": {
    "collapsed": true
   },
   "outputs": [],
   "source": [
    "groupedviande2=grouped2.select('uuid2','listerecettes','ingredientsrecettes2',isinviande_('ingredientsrecettes2').alias('isinviande'),\n",
    "                               'difficulty','cost','listetags','note','setup','cooking')"
   ]
  },
  {
   "cell_type": "code",
   "execution_count": 47,
   "metadata": {
    "collapsed": false
   },
   "outputs": [],
   "source": [
    "gr3=groupedviande2.filter(groupedviande2.isinviande==1.0).count()"
   ]
  },
  {
   "cell_type": "code",
   "execution_count": 48,
   "metadata": {
    "collapsed": false
   },
   "outputs": [
    {
     "data": {
      "text/plain": [
       "17619"
      ]
     },
     "execution_count": 48,
     "metadata": {},
     "output_type": "execute_result"
    }
   ],
   "source": [
    "gr3"
   ]
  },
  {
   "cell_type": "code",
   "execution_count": 49,
   "metadata": {
    "collapsed": true
   },
   "outputs": [],
   "source": [
    "gr4=grouped2.count()-gr1"
   ]
  },
  {
   "cell_type": "code",
   "execution_count": 50,
   "metadata": {
    "collapsed": false
   },
   "outputs": [
    {
     "data": {
      "text/plain": [
       "482637"
      ]
     },
     "execution_count": 50,
     "metadata": {},
     "output_type": "execute_result"
    }
   ],
   "source": [
    "gr4"
   ]
  },
  {
   "cell_type": "code",
   "execution_count": 51,
   "metadata": {
    "collapsed": true
   },
   "outputs": [],
   "source": [
    "#Pourcentage associé au groupe \"viande\" de l'échantillon témoin (pourcentage d'individus qui ont visité au moins une recette de viande),\n",
    "#celui qui contient tous les individus\n",
    "pourcentage2=float(gr3)/float(gr3+gr4)"
   ]
  },
  {
   "cell_type": "code",
   "execution_count": 52,
   "metadata": {
    "collapsed": false
   },
   "outputs": [
    {
     "data": {
      "text/plain": [
       "0.035219967376703125"
      ]
     },
     "execution_count": 52,
     "metadata": {},
     "output_type": "execute_result"
    }
   ],
   "source": [
    "pourcentage2"
   ]
  },
  {
   "cell_type": "code",
   "execution_count": null,
   "metadata": {
    "collapsed": true
   },
   "outputs": [],
   "source": [
    "#On procède de même pour tous les groupes que l'on a sélectionné en amont"
   ]
  },
  {
   "cell_type": "code",
   "execution_count": null,
   "metadata": {
    "collapsed": true
   },
   "outputs": [],
   "source": []
  },
  {
   "cell_type": "code",
   "execution_count": 53,
   "metadata": {
    "collapsed": true
   },
   "outputs": [],
   "source": [
    "#analyse poisson"
   ]
  },
  {
   "cell_type": "code",
   "execution_count": 54,
   "metadata": {
    "collapsed": true
   },
   "outputs": [],
   "source": [
    "def isinpoisson(u):\n",
    "    for i in listepoissons:\n",
    "        if i in u:\n",
    "            return 1.0\n",
    "            break\n",
    "        else:\n",
    "            return 0.0"
   ]
  },
  {
   "cell_type": "code",
   "execution_count": 55,
   "metadata": {
    "collapsed": true
   },
   "outputs": [],
   "source": [
    "isinpoisson_=F.udf(isinpoisson,FloatType())"
   ]
  },
  {
   "cell_type": "code",
   "execution_count": 56,
   "metadata": {
    "collapsed": true
   },
   "outputs": [],
   "source": [
    "groupedpoisson1=groupedmot.select('uuid2','listerecettes','ingredientsrecettes2',isinpoisson_('ingredientsrecettes2').alias('isinpoisson'),\n",
    "                               'difficulty','cost','listetags','note','setup','cooking')"
   ]
  },
  {
   "cell_type": "code",
   "execution_count": 59,
   "metadata": {
    "collapsed": true
   },
   "outputs": [],
   "source": [
    "gr5=groupedpoisson1.filter(groupedpoisson1.isinpoisson==1.0).count()"
   ]
  },
  {
   "cell_type": "code",
   "execution_count": 60,
   "metadata": {
    "collapsed": false
   },
   "outputs": [
    {
     "data": {
      "text/plain": [
       "1305"
      ]
     },
     "execution_count": 60,
     "metadata": {},
     "output_type": "execute_result"
    }
   ],
   "source": [
    "gr5"
   ]
  },
  {
   "cell_type": "code",
   "execution_count": 61,
   "metadata": {
    "collapsed": true
   },
   "outputs": [],
   "source": [
    "gr6=groupedmot.count()-gr1"
   ]
  },
  {
   "cell_type": "code",
   "execution_count": 62,
   "metadata": {
    "collapsed": false
   },
   "outputs": [
    {
     "data": {
      "text/plain": [
       "37230"
      ]
     },
     "execution_count": 62,
     "metadata": {},
     "output_type": "execute_result"
    }
   ],
   "source": [
    "gr6"
   ]
  },
  {
   "cell_type": "code",
   "execution_count": 63,
   "metadata": {
    "collapsed": true
   },
   "outputs": [],
   "source": [
    "pourcentage3=float(gr5)/float(gr6+gr5)"
   ]
  },
  {
   "cell_type": "code",
   "execution_count": 64,
   "metadata": {
    "collapsed": false
   },
   "outputs": [
    {
     "data": {
      "text/plain": [
       "0.03386531724406384"
      ]
     },
     "execution_count": 64,
     "metadata": {},
     "output_type": "execute_result"
    }
   ],
   "source": [
    "pourcentage3"
   ]
  },
  {
   "cell_type": "code",
   "execution_count": 65,
   "metadata": {
    "collapsed": true
   },
   "outputs": [],
   "source": [
    "groupedpoisson2=grouped2.select('uuid2','listerecettes','ingredientsrecettes2',isinpoisson_('ingredientsrecettes2').alias('isinpoisson'),\n",
    "                               'difficulty','cost','listetags','note','setup','cooking')"
   ]
  },
  {
   "cell_type": "code",
   "execution_count": 66,
   "metadata": {
    "collapsed": false
   },
   "outputs": [],
   "source": [
    "gr7=groupedpoisson2.filter(groupedpoisson2.isinpoisson==1.0).count()"
   ]
  },
  {
   "cell_type": "code",
   "execution_count": 67,
   "metadata": {
    "collapsed": false
   },
   "outputs": [
    {
     "data": {
      "text/plain": [
       "4398"
      ]
     },
     "execution_count": 67,
     "metadata": {},
     "output_type": "execute_result"
    }
   ],
   "source": [
    "gr7"
   ]
  },
  {
   "cell_type": "code",
   "execution_count": 68,
   "metadata": {
    "collapsed": true
   },
   "outputs": [],
   "source": [
    "gr8=grouped2.count()-gr1"
   ]
  },
  {
   "cell_type": "code",
   "execution_count": 69,
   "metadata": {
    "collapsed": false
   },
   "outputs": [
    {
     "data": {
      "text/plain": [
       "482637"
      ]
     },
     "execution_count": 69,
     "metadata": {},
     "output_type": "execute_result"
    }
   ],
   "source": [
    "gr8"
   ]
  },
  {
   "cell_type": "code",
   "execution_count": 70,
   "metadata": {
    "collapsed": true
   },
   "outputs": [],
   "source": [
    "pourcentage4=float(gr7)/float(gr7+gr8)"
   ]
  },
  {
   "cell_type": "code",
   "execution_count": 71,
   "metadata": {
    "collapsed": false
   },
   "outputs": [
    {
     "data": {
      "text/plain": [
       "0.00903015183713696"
      ]
     },
     "execution_count": 71,
     "metadata": {},
     "output_type": "execute_result"
    }
   ],
   "source": [
    "pourcentage4"
   ]
  },
  {
   "cell_type": "code",
   "execution_count": null,
   "metadata": {
    "collapsed": true
   },
   "outputs": [],
   "source": []
  },
  {
   "cell_type": "code",
   "execution_count": 72,
   "metadata": {
    "collapsed": true
   },
   "outputs": [],
   "source": [
    "#analyse legume"
   ]
  },
  {
   "cell_type": "code",
   "execution_count": 73,
   "metadata": {
    "collapsed": true
   },
   "outputs": [],
   "source": [
    "def isinlegume(u):\n",
    "    for i in listelegumes:\n",
    "        if i in u:\n",
    "            return 1.0\n",
    "            break\n",
    "        else:\n",
    "            return 0.0"
   ]
  },
  {
   "cell_type": "code",
   "execution_count": 74,
   "metadata": {
    "collapsed": false
   },
   "outputs": [],
   "source": [
    "isinlegume_=F.udf(isinlegume,FloatType())"
   ]
  },
  {
   "cell_type": "code",
   "execution_count": 75,
   "metadata": {
    "collapsed": false
   },
   "outputs": [],
   "source": [
    "groupedlegume1=groupedmot.select('uuid2','listerecettes','ingredientsrecettes2',isinlegume_('ingredientsrecettes2').alias('isinlegume'),\n",
    "                               'difficulty','cost','listetags','note','setup','cooking')"
   ]
  },
  {
   "cell_type": "code",
   "execution_count": 77,
   "metadata": {
    "collapsed": true
   },
   "outputs": [],
   "source": [
    "gr9=groupedlegume1.filter(groupedlegume1.isinlegume==1.0).count()"
   ]
  },
  {
   "cell_type": "code",
   "execution_count": 78,
   "metadata": {
    "collapsed": false
   },
   "outputs": [
    {
     "data": {
      "text/plain": [
       "12698"
      ]
     },
     "execution_count": 78,
     "metadata": {},
     "output_type": "execute_result"
    }
   ],
   "source": [
    "gr9"
   ]
  },
  {
   "cell_type": "code",
   "execution_count": 79,
   "metadata": {
    "collapsed": true
   },
   "outputs": [],
   "source": [
    "gr10=groupedmot.count()-gr1"
   ]
  },
  {
   "cell_type": "code",
   "execution_count": 80,
   "metadata": {
    "collapsed": false
   },
   "outputs": [
    {
     "data": {
      "text/plain": [
       "37230"
      ]
     },
     "execution_count": 80,
     "metadata": {},
     "output_type": "execute_result"
    }
   ],
   "source": [
    "gr10"
   ]
  },
  {
   "cell_type": "code",
   "execution_count": 81,
   "metadata": {
    "collapsed": true
   },
   "outputs": [],
   "source": [
    "pourcentage5=float(gr9)/float(gr9+gr10)"
   ]
  },
  {
   "cell_type": "code",
   "execution_count": 82,
   "metadata": {
    "collapsed": false
   },
   "outputs": [
    {
     "data": {
      "text/plain": [
       "0.25432622977087005"
      ]
     },
     "execution_count": 82,
     "metadata": {},
     "output_type": "execute_result"
    }
   ],
   "source": [
    "pourcentage5"
   ]
  },
  {
   "cell_type": "code",
   "execution_count": 83,
   "metadata": {
    "collapsed": true
   },
   "outputs": [],
   "source": [
    "groupedlegume2=grouped2.select('uuid2','listerecettes','ingredientsrecettes2',isinlegume_('ingredientsrecettes2').alias('isinlegume'),\n",
    "                               'difficulty','cost','listetags','note','setup','cooking')"
   ]
  },
  {
   "cell_type": "code",
   "execution_count": 84,
   "metadata": {
    "collapsed": true
   },
   "outputs": [],
   "source": [
    "gr11=groupedlegume2.filter(groupedlegume2.isinlegume==1.0).count()"
   ]
  },
  {
   "cell_type": "code",
   "execution_count": 85,
   "metadata": {
    "collapsed": false
   },
   "outputs": [
    {
     "data": {
      "text/plain": [
       "95510"
      ]
     },
     "execution_count": 85,
     "metadata": {},
     "output_type": "execute_result"
    }
   ],
   "source": [
    "gr11"
   ]
  },
  {
   "cell_type": "code",
   "execution_count": 86,
   "metadata": {
    "collapsed": true
   },
   "outputs": [],
   "source": [
    "gr12=grouped2.count()-gr1"
   ]
  },
  {
   "cell_type": "code",
   "execution_count": 87,
   "metadata": {
    "collapsed": true
   },
   "outputs": [],
   "source": [
    "pourcentage6=float(gr11)/float(gr11+gr12)"
   ]
  },
  {
   "cell_type": "code",
   "execution_count": 88,
   "metadata": {
    "collapsed": false
   },
   "outputs": [
    {
     "data": {
      "text/plain": [
       "0.1652001999491479"
      ]
     },
     "execution_count": 88,
     "metadata": {},
     "output_type": "execute_result"
    }
   ],
   "source": [
    "pourcentage6"
   ]
  },
  {
   "cell_type": "code",
   "execution_count": null,
   "metadata": {
    "collapsed": true
   },
   "outputs": [],
   "source": []
  },
  {
   "cell_type": "code",
   "execution_count": 89,
   "metadata": {
    "collapsed": true
   },
   "outputs": [],
   "source": [
    "#analyse fruits\n"
   ]
  },
  {
   "cell_type": "code",
   "execution_count": 90,
   "metadata": {
    "collapsed": true
   },
   "outputs": [],
   "source": [
    "def isinfruit(u):\n",
    "    for i in listefruits:\n",
    "        if i in u:\n",
    "            return 1.0\n",
    "            break\n",
    "        else:\n",
    "            return 0.0"
   ]
  },
  {
   "cell_type": "code",
   "execution_count": 91,
   "metadata": {
    "collapsed": true
   },
   "outputs": [],
   "source": [
    "isinfruit_=F.udf(isinfruit,FloatType())"
   ]
  },
  {
   "cell_type": "code",
   "execution_count": 92,
   "metadata": {
    "collapsed": true
   },
   "outputs": [],
   "source": [
    "groupedfruit1=groupedmot.select('uuid2','listerecettes','ingredientsrecettes2',isinfruit_('ingredientsrecettes2').alias('isinfruit'),\n",
    "                               'difficulty','cost','listetags','note','setup','cooking')"
   ]
  },
  {
   "cell_type": "code",
   "execution_count": 94,
   "metadata": {
    "collapsed": true
   },
   "outputs": [],
   "source": [
    "gr13=groupedfruit1.filter(groupedfruit1.isinfruit==1.0).count()"
   ]
  },
  {
   "cell_type": "code",
   "execution_count": 95,
   "metadata": {
    "collapsed": false
   },
   "outputs": [
    {
     "data": {
      "text/plain": [
       "45"
      ]
     },
     "execution_count": 95,
     "metadata": {},
     "output_type": "execute_result"
    }
   ],
   "source": [
    "gr13"
   ]
  },
  {
   "cell_type": "code",
   "execution_count": 96,
   "metadata": {
    "collapsed": true
   },
   "outputs": [],
   "source": [
    "gr14=groupedmot.count()-gr1"
   ]
  },
  {
   "cell_type": "code",
   "execution_count": 97,
   "metadata": {
    "collapsed": false
   },
   "outputs": [
    {
     "data": {
      "text/plain": [
       "37230"
      ]
     },
     "execution_count": 97,
     "metadata": {},
     "output_type": "execute_result"
    }
   ],
   "source": [
    "gr14"
   ]
  },
  {
   "cell_type": "code",
   "execution_count": 98,
   "metadata": {
    "collapsed": true
   },
   "outputs": [],
   "source": [
    "pourcentage7=float(gr13)/float(gr13+gr14)"
   ]
  },
  {
   "cell_type": "code",
   "execution_count": 99,
   "metadata": {
    "collapsed": false
   },
   "outputs": [
    {
     "data": {
      "text/plain": [
       "0.0012072434607645875"
      ]
     },
     "execution_count": 99,
     "metadata": {},
     "output_type": "execute_result"
    }
   ],
   "source": [
    "pourcentage7"
   ]
  },
  {
   "cell_type": "code",
   "execution_count": 100,
   "metadata": {
    "collapsed": true
   },
   "outputs": [],
   "source": [
    "groupedfruit2=grouped2.select('uuid2','listerecettes','ingredientsrecettes2',isinfruit_('ingredientsrecettes2').alias('isinfruit'),\n",
    "                               'difficulty','cost','listetags','note','setup','cooking')"
   ]
  },
  {
   "cell_type": "code",
   "execution_count": 101,
   "metadata": {
    "collapsed": true
   },
   "outputs": [],
   "source": [
    "gr15=groupedfruit2.filter(groupedfruit2.isinfruit==1.0).count()"
   ]
  },
  {
   "cell_type": "code",
   "execution_count": 102,
   "metadata": {
    "collapsed": false
   },
   "outputs": [
    {
     "data": {
      "text/plain": [
       "1748"
      ]
     },
     "execution_count": 102,
     "metadata": {},
     "output_type": "execute_result"
    }
   ],
   "source": [
    "gr15"
   ]
  },
  {
   "cell_type": "code",
   "execution_count": 103,
   "metadata": {
    "collapsed": true
   },
   "outputs": [],
   "source": [
    "gr16=grouped2.count()-gr1"
   ]
  },
  {
   "cell_type": "code",
   "execution_count": 104,
   "metadata": {
    "collapsed": true
   },
   "outputs": [],
   "source": [
    "pourcentage8=float(gr15)/float(gr15+gr16)"
   ]
  },
  {
   "cell_type": "code",
   "execution_count": 105,
   "metadata": {
    "collapsed": false
   },
   "outputs": [
    {
     "data": {
      "text/plain": [
       "0.0036086996913612104"
      ]
     },
     "execution_count": 105,
     "metadata": {},
     "output_type": "execute_result"
    }
   ],
   "source": [
    "pourcentage8"
   ]
  },
  {
   "cell_type": "code",
   "execution_count": null,
   "metadata": {
    "collapsed": true
   },
   "outputs": [],
   "source": []
  },
  {
   "cell_type": "code",
   "execution_count": 106,
   "metadata": {
    "collapsed": true
   },
   "outputs": [],
   "source": [
    "#analyse oeuf"
   ]
  },
  {
   "cell_type": "code",
   "execution_count": 107,
   "metadata": {
    "collapsed": false
   },
   "outputs": [],
   "source": [
    "def isinoeuf(u):\n",
    "    if 'oeuf' in u:\n",
    "        return 1.0\n",
    "    else:\n",
    "        return 0.0"
   ]
  },
  {
   "cell_type": "code",
   "execution_count": 108,
   "metadata": {
    "collapsed": false
   },
   "outputs": [],
   "source": [
    "isinoeuf_=F.udf(isinoeuf,FloatType())"
   ]
  },
  {
   "cell_type": "code",
   "execution_count": 109,
   "metadata": {
    "collapsed": false
   },
   "outputs": [],
   "source": [
    "groupedoeuf1=groupedmot.select('uuid2','listerecettes','ingredientsrecettes2',isinoeuf_('ingredientsrecettes2').alias('isinoeuf'),\n",
    "                               'difficulty','cost','listetags','note','setup','cooking')"
   ]
  },
  {
   "cell_type": "code",
   "execution_count": 111,
   "metadata": {
    "collapsed": true
   },
   "outputs": [],
   "source": [
    "gr17=groupedoeuf1.filter(groupedoeuf1.isinoeuf==1.0).count()"
   ]
  },
  {
   "cell_type": "code",
   "execution_count": 112,
   "metadata": {
    "collapsed": false
   },
   "outputs": [
    {
     "data": {
      "text/plain": [
       "8898"
      ]
     },
     "execution_count": 112,
     "metadata": {},
     "output_type": "execute_result"
    }
   ],
   "source": [
    "gr17"
   ]
  },
  {
   "cell_type": "code",
   "execution_count": 113,
   "metadata": {
    "collapsed": true
   },
   "outputs": [],
   "source": [
    "gr18=groupedmot.count()-gr1"
   ]
  },
  {
   "cell_type": "code",
   "execution_count": 114,
   "metadata": {
    "collapsed": false
   },
   "outputs": [
    {
     "data": {
      "text/plain": [
       "37230"
      ]
     },
     "execution_count": 114,
     "metadata": {},
     "output_type": "execute_result"
    }
   ],
   "source": [
    "gr18"
   ]
  },
  {
   "cell_type": "code",
   "execution_count": 115,
   "metadata": {
    "collapsed": true
   },
   "outputs": [],
   "source": [
    "pourcentage9=float(gr17)/float(gr17+gr18)"
   ]
  },
  {
   "cell_type": "code",
   "execution_count": 116,
   "metadata": {
    "collapsed": false
   },
   "outputs": [
    {
     "data": {
      "text/plain": [
       "0.19289802289282"
      ]
     },
     "execution_count": 116,
     "metadata": {},
     "output_type": "execute_result"
    }
   ],
   "source": [
    "pourcentage9"
   ]
  },
  {
   "cell_type": "code",
   "execution_count": 117,
   "metadata": {
    "collapsed": true
   },
   "outputs": [],
   "source": [
    "groupedoeuf2=grouped2.select('uuid2','listerecettes','ingredientsrecettes2',isinoeuf_('ingredientsrecettes2').alias('isinoeuf'),\n",
    "                               'difficulty','cost','listetags','note','setup','cooking')"
   ]
  },
  {
   "cell_type": "code",
   "execution_count": 118,
   "metadata": {
    "collapsed": true
   },
   "outputs": [],
   "source": [
    "gr19=groupedoeuf2.filter(groupedoeuf2.isinoeuf==1.0).count()"
   ]
  },
  {
   "cell_type": "code",
   "execution_count": 119,
   "metadata": {
    "collapsed": false
   },
   "outputs": [
    {
     "data": {
      "text/plain": [
       "76319"
      ]
     },
     "execution_count": 119,
     "metadata": {},
     "output_type": "execute_result"
    }
   ],
   "source": [
    "gr19"
   ]
  },
  {
   "cell_type": "code",
   "execution_count": 120,
   "metadata": {
    "collapsed": true
   },
   "outputs": [],
   "source": [
    "gr20=grouped2.count()-gr1"
   ]
  },
  {
   "cell_type": "code",
   "execution_count": 121,
   "metadata": {
    "collapsed": false
   },
   "outputs": [
    {
     "data": {
      "text/plain": [
       "482637"
      ]
     },
     "execution_count": 121,
     "metadata": {},
     "output_type": "execute_result"
    }
   ],
   "source": [
    "gr20"
   ]
  },
  {
   "cell_type": "code",
   "execution_count": 122,
   "metadata": {
    "collapsed": true
   },
   "outputs": [],
   "source": [
    "pourcentage10=float(gr19)/float(gr19+gr20)"
   ]
  },
  {
   "cell_type": "code",
   "execution_count": 123,
   "metadata": {
    "collapsed": false
   },
   "outputs": [
    {
     "data": {
      "text/plain": [
       "0.13653847530038143"
      ]
     },
     "execution_count": 123,
     "metadata": {},
     "output_type": "execute_result"
    }
   ],
   "source": [
    "pourcentage10"
   ]
  },
  {
   "cell_type": "code",
   "execution_count": null,
   "metadata": {
    "collapsed": true
   },
   "outputs": [],
   "source": []
  },
  {
   "cell_type": "code",
   "execution_count": 124,
   "metadata": {
    "collapsed": false
   },
   "outputs": [],
   "source": [
    "#analyse cocktail\n",
    "\n",
    "def isincocktail(u):\n",
    "    for i in u:\n",
    "        for j in i:\n",
    "            for k in j:\n",
    "                if k.find('cocktail')!=-1:\n",
    "                    return 1.0\n",
    "                    break\n",
    "                else:\n",
    "                    return 0.0\n",
    "    \n",
    "    \n",
    "isincocktail_=F.udf(isincocktail,FloatType())\n",
    "\n",
    "groupedcocktail1=groupedmot.select('uuid2','listerecettes','ingredientsrecettes2','listetags','difficulty','setup','cooking',\n",
    "                                   'cost',isincocktail_('listetags').alias('isincocktail'),'note')\n",
    "\n",
    "gr21=groupedcocktail1.filter(groupedcocktail1.isincocktail==1.0).count()\n",
    "gr22=groupedmot.count()-gr1\n",
    "pourcentage11=float(gr21)/float(gr21+gr22)"
   ]
  },
  {
   "cell_type": "code",
   "execution_count": 125,
   "metadata": {
    "collapsed": false
   },
   "outputs": [],
   "source": [
    "\n",
    "groupedcocktail2=grouped2.select('uuid2','listerecettes','ingredientsrecettes2','setup','cooking',isincocktail_('listetags').alias('isincocktail'),\n",
    "                              'difficulty','cost','listetags','note')\n",
    "gr23=groupedcocktail2.filter(groupedcocktail2.isincocktail==1.0).count()\n",
    "gr24=grouped2.count()-gr1\n",
    "\n",
    "pourcentage12=float(gr23)/float(gr23+gr24)"
   ]
  },
  {
   "cell_type": "code",
   "execution_count": null,
   "metadata": {
    "collapsed": true
   },
   "outputs": [],
   "source": []
  },
  {
   "cell_type": "code",
   "execution_count": 126,
   "metadata": {
    "collapsed": false
   },
   "outputs": [],
   "source": [
    "# analyse aperitif\n",
    "\n",
    "def isinaperitif(u):\n",
    "    for i in u:\n",
    "        for j in i:\n",
    "            for k in j:\n",
    "                if k.find('aperitif')!=-1:\n",
    "                    return 1.0\n",
    "                    break\n",
    "                else:\n",
    "                    return 0.0\n",
    "    \n",
    "    \n",
    "isinaperitif_=F.udf(isinaperitif,FloatType())\n",
    "\n",
    "groupedaperitif1=groupedmot.select('uuid2','listerecettes','ingredientsrecettes2','listetags','difficulty','setup','cooking',\n",
    "                                   'cost',isinaperitif_('listetags').alias('isinaperitif'),'note')\n",
    "\n",
    "gr25=groupedaperitif1.filter(groupedaperitif1.isinaperitif==1.0).count()\n",
    "gr26=groupedmot.count()-gr1\n",
    "pourcentage13=float(gr25)/float(gr25+gr26)"
   ]
  },
  {
   "cell_type": "code",
   "execution_count": 127,
   "metadata": {
    "collapsed": true
   },
   "outputs": [],
   "source": [
    "\n",
    "groupedaperitif2=grouped2.select('uuid2','listerecettes','ingredientsrecettes2','setup','cooking',isinaperitif_('listetags').alias('isinaperitif'),\n",
    "                              'difficulty','cost','listetags','note')\n",
    "gr27=groupedaperitif2.filter(groupedaperitif2.isinaperitif==1.0).count()\n",
    "gr28=grouped2.count()-gr1\n",
    "\n",
    "pourcentage14=float(gr27)/float(gr27+gr28)"
   ]
  },
  {
   "cell_type": "code",
   "execution_count": null,
   "metadata": {
    "collapsed": true
   },
   "outputs": [],
   "source": []
  },
  {
   "cell_type": "code",
   "execution_count": 128,
   "metadata": {
    "collapsed": true
   },
   "outputs": [],
   "source": [
    "#analyse entree\n",
    "\n",
    "def isinentree(u):\n",
    "    for i in u:\n",
    "        for j in i:\n",
    "            for k in j:\n",
    "                if k.find('entree')!=-1:\n",
    "                    return 1.0\n",
    "                    break\n",
    "                else:\n",
    "                    return 0.0\n",
    "    \n",
    "    \n",
    "isinentree_=F.udf(isinentree,FloatType())\n",
    "\n",
    "groupedentree1=groupedmot.select('uuid2','listerecettes','ingredientsrecettes2','listetags','difficulty','setup','cooking',\n",
    "                                   'cost',isinentree_('listetags').alias('isinentree'),'note')\n",
    "\n",
    "gr29=groupedentree1.filter(groupedentree1.isinentree==1.0).count()\n",
    "gr30=groupedmot.count()-gr1\n",
    "pourcentage15=float(gr29)/float(gr29+gr30)"
   ]
  },
  {
   "cell_type": "code",
   "execution_count": 129,
   "metadata": {
    "collapsed": true
   },
   "outputs": [],
   "source": [
    "\n",
    "groupedentree2=grouped2.select('uuid2','listerecettes','ingredientsrecettes2','setup','cooking',isinentree_('listetags').alias('isinentree'),\n",
    "                              'difficulty','cost','listetags','note')\n",
    "gr31=groupedentree2.filter(groupedentree2.isinentree==1.0).count()\n",
    "gr32=grouped2.count()-gr1\n",
    "\n",
    "pourcentage16=float(gr31)/float(gr31+gr32)"
   ]
  },
  {
   "cell_type": "code",
   "execution_count": null,
   "metadata": {
    "collapsed": true
   },
   "outputs": [],
   "source": []
  },
  {
   "cell_type": "code",
   "execution_count": 130,
   "metadata": {
    "collapsed": true
   },
   "outputs": [],
   "source": [
    "#analyse plat\n",
    "\n",
    "def isinplat(u):\n",
    "    for i in u:\n",
    "        for j in i:\n",
    "            for k in j:\n",
    "                if k.find('plat')!=-1:\n",
    "                    return 1.0\n",
    "                    break\n",
    "                else:\n",
    "                    return 0.0\n",
    "    \n",
    "    \n",
    "    \n",
    "isinplat_=F.udf(isinplat,FloatType())\n",
    "\n",
    "groupedplat1=groupedmot.select('uuid2','listerecettes','ingredientsrecettes2','setup','cooking','listetags','difficulty',\n",
    "                                   'cost',isinplat_('listetags').alias('isinplat'),'note')\n",
    "\n",
    "gr33=groupedplat1.filter(groupedplat1.isinplat==1.0).count()\n",
    "gr34=groupedmot.count()-gr1\n",
    "pourcentage17=float(gr33)/float(gr33+gr34)"
   ]
  },
  {
   "cell_type": "code",
   "execution_count": 131,
   "metadata": {
    "collapsed": true
   },
   "outputs": [],
   "source": [
    "\n",
    "groupedplat2=grouped2.select('uuid2','listerecettes','ingredientsrecettes2','setup','cooking',isinplat_('listetags').alias('isinplat'),\n",
    "                              'difficulty','cost','listetags','note')\n",
    "gr35=groupedplat2.filter(groupedplat2.isinplat==1.0).count()\n",
    "gr36=grouped2.count()-gr1\n",
    "\n",
    "pourcentage18=float(gr35)/float(gr35+gr36)"
   ]
  },
  {
   "cell_type": "code",
   "execution_count": 132,
   "metadata": {
    "collapsed": true
   },
   "outputs": [],
   "source": [
    "#analyse dessert\n",
    "\n",
    "def isindessert(u):\n",
    "    for i in u:\n",
    "        for j in i:\n",
    "            for k in j:\n",
    "                if k.find('dessert')!=-1:\n",
    "                    return 1.0\n",
    "                    break\n",
    "                else:\n",
    "                    return 0.0\n",
    "    \n",
    "    \n",
    "isindessert_=F.udf(isindessert,FloatType())\n",
    "\n",
    "groupeddessert1=groupedmot.select('uuid2','listerecettes','ingredientsrecettes2','listetags','difficulty','setup','cooking',\n",
    "                                   'cost',isindessert_('listetags').alias('isindessert'),'note')\n",
    "\n",
    "gr37=groupeddessert1.filter(groupeddessert1.isindessert==1.0).count()\n",
    "gr38=groupedmot.count()-gr1\n",
    "pourcentage19=float(gr37)/float(gr37+gr38)"
   ]
  },
  {
   "cell_type": "code",
   "execution_count": 133,
   "metadata": {
    "collapsed": true
   },
   "outputs": [],
   "source": [
    "\n",
    "groupeddessert2=grouped2.select('uuid2','listerecettes','setup','cooking','ingredientsrecettes2',isindessert_('listetags').alias('isindessert'),\n",
    "                              'difficulty','cost','listetags','note')\n",
    "gr39=groupeddessert2.filter(groupeddessert2.isindessert==1.0).count()\n",
    "gr40=grouped2.count()-gr1\n",
    "\n",
    "pourcentage20=float(gr39)/float(gr39+gr40)"
   ]
  },
  {
   "cell_type": "code",
   "execution_count": null,
   "metadata": {
    "collapsed": true
   },
   "outputs": [],
   "source": []
  },
  {
   "cell_type": "code",
   "execution_count": 134,
   "metadata": {
    "collapsed": true
   },
   "outputs": [],
   "source": [
    "#analyse sauce\n",
    "\n",
    "def isinsauce(u):\n",
    "    for i in u:\n",
    "        for j in i:\n",
    "            for k in j:\n",
    "                if k.find('sauce')!=-1:\n",
    "                    return 1.0\n",
    "                    break\n",
    "                else:\n",
    "                    return 0.0\n",
    "    \n",
    "isinsauce_=F.udf(isinsauce,FloatType())\n",
    "\n",
    "groupedsauce1=groupedmot.select('uuid2','listerecettes','ingredientsrecettes2','listetags','difficulty','setup','cooking',\n",
    "                                   'cost',isinsauce_('listetags').alias('isinsauce'),'note')\n",
    "\n",
    "gr41=groupedsauce1.filter(groupedsauce1.isinsauce==1.0).count()\n",
    "gr42=groupedmot.count()-gr1\n",
    "pourcentage21=float(gr41)/float(gr41+gr42)"
   ]
  },
  {
   "cell_type": "code",
   "execution_count": null,
   "metadata": {
    "collapsed": true
   },
   "outputs": [],
   "source": []
  },
  {
   "cell_type": "code",
   "execution_count": 136,
   "metadata": {
    "collapsed": true
   },
   "outputs": [],
   "source": [
    "\n",
    "groupedsauce2=grouped2.select('uuid2','listerecettes','setup','cooking','ingredientsrecettes2',isinsauce_('listetags').alias('isinsauce'),\n",
    "                              'difficulty','cost','listetags','note')\n",
    "gr43=groupedsauce2.filter(groupedsauce2.isinsauce==1.0).count()\n",
    "gr44=grouped2.count()-gr1\n",
    "\n",
    "pourcentage22=float(gr43)/float(gr43+gr44)"
   ]
  },
  {
   "cell_type": "code",
   "execution_count": null,
   "metadata": {
    "collapsed": true
   },
   "outputs": [],
   "source": []
  },
  {
   "cell_type": "code",
   "execution_count": 137,
   "metadata": {
    "collapsed": false
   },
   "outputs": [],
   "source": [
    "#analyse cost\n",
    "\n",
    "gr45= groupedmot.filter(groupedmot.cost <=1).count()\n",
    "gr46= groupedmot.filter(groupedmot.cost ==2).count()\n",
    "gr47= groupedmot.filter(groupedmot.cost > 2).count()\n",
    "\n",
    "pourcentage25=float(gr45)/float(groupedmot.count())\n",
    "pourcentage26=float(gr46)/float(groupedmot.count())\n",
    "pourcentage27=float(gr47)/float(groupedmot.count())"
   ]
  },
  {
   "cell_type": "code",
   "execution_count": 138,
   "metadata": {
    "collapsed": false
   },
   "outputs": [],
   "source": [
    "\n",
    "gr48= grouped2.filter(grouped2.cost <=1).count()\n",
    "gr49 = grouped2.filter(grouped2.cost ==2).count()\n",
    "gr50 = grouped2.filter(grouped2.cost >2).count()\n",
    "\n",
    "pourcentage28=float(gr48)/float(grouped2.count())\n",
    "pourcentage29=float(gr49)/float(grouped2.count())\n",
    "pourcentage30=float(gr50)/float(grouped2.count())"
   ]
  },
  {
   "cell_type": "code",
   "execution_count": null,
   "metadata": {
    "collapsed": true
   },
   "outputs": [],
   "source": []
  },
  {
   "cell_type": "code",
   "execution_count": 139,
   "metadata": {
    "collapsed": true
   },
   "outputs": [],
   "source": [
    "#analyse difficulty\n",
    "\n",
    "gr51= groupedmot.filter(groupedmot.difficulty <=1).count()\n",
    "gr52= groupedmot.filter(groupedmot.difficulty ==2).count()\n",
    "gr53= groupedmot.filter(groupedmot.difficulty >2).count()\n",
    "\n",
    "pourcentage31=float(gr51)/float(groupedmot.count())\n",
    "pourcentage32=float(gr52)/float(groupedmot.count())\n",
    "pourcentage33=float(gr53)/float(groupedmot.count())"
   ]
  },
  {
   "cell_type": "code",
   "execution_count": 140,
   "metadata": {
    "collapsed": false
   },
   "outputs": [],
   "source": [
    "gr54= grouped2.filter(grouped2.difficulty <=1).count()\n",
    "gr55= grouped2.filter(grouped2.difficulty ==2).count()\n",
    "gr56= grouped2.filter(grouped2.difficulty >2).count()\n",
    "\n",
    "pourcentage34=float(gr54)/float(grouped2.count())\n",
    "pourcentage35=float(gr55)/float(grouped2.count())\n",
    "pourcentage36=float(gr56)/float(grouped2.count())"
   ]
  },
  {
   "cell_type": "code",
   "execution_count": null,
   "metadata": {
    "collapsed": true
   },
   "outputs": [],
   "source": []
  },
  {
   "cell_type": "code",
   "execution_count": 141,
   "metadata": {
    "collapsed": true
   },
   "outputs": [],
   "source": [
    "#analyse note\n",
    "\n",
    "gr57= groupedmot.filter(groupedmot.note <=3).count()\n",
    "gr58= groupedmot.filter(groupedmot.note ==4).count()\n",
    "gr59= groupedmot.filter(groupedmot.note>4).count()\n",
    "\n",
    "pourcentage37=float(gr57)/float(groupedmot.count())\n",
    "pourcentage38=float(gr58)/float(groupedmot.count())\n",
    "pourcentage39=float(gr59)/float(groupedmot.count())"
   ]
  },
  {
   "cell_type": "code",
   "execution_count": 142,
   "metadata": {
    "collapsed": true
   },
   "outputs": [],
   "source": [
    "gr60= grouped2.filter(grouped2.note <=3).count()\n",
    "gr61= grouped2.filter(grouped2.note ==4).count()\n",
    "gr62= grouped2.filter(grouped2.note> 4).count()\n",
    "\n",
    "pourcentage40=float(gr60)/float(grouped2.count())\n",
    "pourcentage41=float(gr61)/float(grouped2.count())\n",
    "pourcentage42=float(gr62)/float(grouped2.count())"
   ]
  },
  {
   "cell_type": "code",
   "execution_count": null,
   "metadata": {
    "collapsed": true
   },
   "outputs": [],
   "source": []
  },
  {
   "cell_type": "code",
   "execution_count": 143,
   "metadata": {
    "collapsed": false
   },
   "outputs": [],
   "source": [
    "#analyse setup\n",
    "\n",
    "gr63= groupedmot.filter(groupedmot.setup <=10).count()\n",
    "gr64= groupedmot.filter((10< groupedmot.setup) & (groupedmot.setup<=20)).count()\n",
    "gr65= groupedmot.filter(groupedmot.setup >20).count()\n",
    "\n",
    "pourcentage43=float(gr63)/float(groupedmot.count())\n",
    "pourcentage44=float(gr64)/float(groupedmot.count())\n",
    "pourcentage45=float(gr65)/float(groupedmot.count())"
   ]
  },
  {
   "cell_type": "code",
   "execution_count": 144,
   "metadata": {
    "collapsed": false
   },
   "outputs": [],
   "source": [
    "gr66= grouped2.filter(grouped2.setup <=10).count()\n",
    "gr67= grouped2.filter((10< groupedmot.setup) & (groupedmot.setup<=20)).count()\n",
    "gr68= grouped2.filter(grouped2.setup >=20).count()\n",
    "\n",
    "pourcentage46=float(gr66)/float(grouped2.count())\n",
    "pourcentage47=float(gr67)/float(grouped2.count())\n",
    "pourcentage48=float(gr68)/float(grouped2.count())"
   ]
  },
  {
   "cell_type": "code",
   "execution_count": null,
   "metadata": {
    "collapsed": true
   },
   "outputs": [],
   "source": []
  },
  {
   "cell_type": "code",
   "execution_count": 145,
   "metadata": {
    "collapsed": true
   },
   "outputs": [],
   "source": [
    "#analyse cooking\n",
    "\n",
    "gr69= groupedmot.filter(groupedmot.cooking <=10).count()\n",
    "gr70= groupedmot.filter((10< groupedmot.cooking) & (groupedmot.cooking<=30)).count()\n",
    "gr71= groupedmot.filter(groupedmot.cooking >=30).count()\n",
    "\n",
    "pourcentage49=float(gr69)/float(groupedmot.count())\n",
    "pourcentage50=float(gr70)/float(groupedmot.count())\n",
    "pourcentage51=float(gr71)/float(groupedmot.count())"
   ]
  },
  {
   "cell_type": "code",
   "execution_count": 146,
   "metadata": {
    "collapsed": true
   },
   "outputs": [],
   "source": [
    "gr72= grouped2.filter(grouped2.cooking <=10).count()\n",
    "gr73= grouped2.filter((10< groupedmot.cooking) & (groupedmot.cooking<=30)).count()\n",
    "gr74= grouped2.filter(grouped2.cooking >=30).count()\n",
    "\n",
    "pourcentage52=float(gr72)/float(grouped2.count())\n",
    "pourcentage53=float(gr73)/float(grouped2.count())\n",
    "pourcentage54=float(gr74)/float(grouped2.count())"
   ]
  },
  {
   "cell_type": "code",
   "execution_count": null,
   "metadata": {
    "collapsed": true
   },
   "outputs": [],
   "source": []
  },
  {
   "cell_type": "code",
   "execution_count": 147,
   "metadata": {
    "collapsed": false
   },
   "outputs": [],
   "source": [
    "import pandas\n",
    "import numpy\n",
    "\n",
    "ar = numpy.array([[pourcentage1, pourcentage2,gr1,gr2,gr3,gr4], [pourcentage3, pourcentage4,gr5,gr6,gr7,gr8], [pourcentage5, pourcentage6,gr9,gr10,gr11,gr12],\n",
    "                  [pourcentage7, pourcentage8,gr13,gr14,gr15,gr16],[pourcentage9, pourcentage10,gr17,gr18,gr19,gr20],[pourcentage11, pourcentage12,gr21,gr22,gr23,gr24],\n",
    "                  [pourcentage13, pourcentage14,gr25,gr26,gr27,gr28],[pourcentage15, pourcentage16,gr29,gr30,gr31,gr32],\n",
    "                 [pourcentage17, pourcentage18,gr33,gr34,gr35,gr36],[pourcentage19, pourcentage20,gr37,gr38,gr39,gr40],[pourcentage21, pourcentage22,gr41,gr42,gr43,gr44],\n",
    "                  [pourcentage25, pourcentage28,gr45,gr2,gr48,gr4],[pourcentage26, pourcentage29,gr46,gr2,gr49,gr4],[pourcentage27, pourcentage30,gr47,gr2,gr50,gr4],\n",
    "                  [pourcentage31, pourcentage34,gr51,gr2,gr54,gr4],\n",
    "                 [pourcentage32, pourcentage35,gr52,gr2,gr55,gr4],[pourcentage33, pourcentage36,gr53,gr2,gr56,gr4],[pourcentage37, pourcentage40,gr57,gr2,gr60,gr4],\n",
    "                  [pourcentage38, pourcentage41,gr58,gr2,gr61,gr4],[pourcentage39, pourcentage42,gr59,gr2,gr62,gr4],[pourcentage43, pourcentage46,gr63,gr2,gr66,gr4],\n",
    "                 [pourcentage44, pourcentage47,gr64,gr2,gr67,gr4],[pourcentage45, pourcentage48,gr65,gr2,gr68,gr4],[pourcentage49, pourcentage52,gr69,gr2,gr72,gr4],\n",
    "                 [pourcentage50, pourcentage53,gr70,gr2,gr73,gr4],[pourcentage51, pourcentage54,gr71,gr2,gr74,gr4]])\n",
    "df = pandas.DataFrame(ar, index = ['viande', 'poisson', 'legume','fruit','oeuf','cocktail','aperitif','entree','plat','dessert',\n",
    "                                   'sauce','peucher','prixmoyen','cher','peudifficile','difficultemoyenne','difficile',\n",
    "                                  'mauvaisenote','notemoyenne','bonnenote','peupreparation','preparationmoyenne','bcppreparation','peucuisson','cuissonmoyenne',\n",
    "                                   'bcpcuisson'], columns = ['test', 'temoin','test&category','nbtest','temoin&category','nbtemoin'])"
   ]
  },
  {
   "cell_type": "code",
   "execution_count": 148,
   "metadata": {
    "collapsed": false
   },
   "outputs": [
    {
     "data": {
      "text/html": [
       "<div>\n",
       "<table border=\"1\" class=\"dataframe\">\n",
       "  <thead>\n",
       "    <tr style=\"text-align: right;\">\n",
       "      <th></th>\n",
       "      <th>test</th>\n",
       "      <th>temoin</th>\n",
       "      <th>test&amp;category</th>\n",
       "      <th>nbtest</th>\n",
       "      <th>temoin&amp;category</th>\n",
       "      <th>nbtemoin</th>\n",
       "    </tr>\n",
       "  </thead>\n",
       "  <tbody>\n",
       "    <tr>\n",
       "      <th>viande</th>\n",
       "      <td>0.065489</td>\n",
       "      <td>0.035220</td>\n",
       "      <td>2609</td>\n",
       "      <td>37230</td>\n",
       "      <td>17619</td>\n",
       "      <td>482637</td>\n",
       "    </tr>\n",
       "    <tr>\n",
       "      <th>poisson</th>\n",
       "      <td>0.033865</td>\n",
       "      <td>0.009030</td>\n",
       "      <td>1305</td>\n",
       "      <td>37230</td>\n",
       "      <td>4398</td>\n",
       "      <td>482637</td>\n",
       "    </tr>\n",
       "    <tr>\n",
       "      <th>legume</th>\n",
       "      <td>0.254326</td>\n",
       "      <td>0.165200</td>\n",
       "      <td>12698</td>\n",
       "      <td>37230</td>\n",
       "      <td>95510</td>\n",
       "      <td>482637</td>\n",
       "    </tr>\n",
       "    <tr>\n",
       "      <th>fruit</th>\n",
       "      <td>0.001207</td>\n",
       "      <td>0.003609</td>\n",
       "      <td>45</td>\n",
       "      <td>37230</td>\n",
       "      <td>1748</td>\n",
       "      <td>482637</td>\n",
       "    </tr>\n",
       "    <tr>\n",
       "      <th>oeuf</th>\n",
       "      <td>0.192898</td>\n",
       "      <td>0.136538</td>\n",
       "      <td>8898</td>\n",
       "      <td>37230</td>\n",
       "      <td>76319</td>\n",
       "      <td>482637</td>\n",
       "    </tr>\n",
       "    <tr>\n",
       "      <th>cocktail</th>\n",
       "      <td>0.001609</td>\n",
       "      <td>0.004458</td>\n",
       "      <td>60</td>\n",
       "      <td>37230</td>\n",
       "      <td>2161</td>\n",
       "      <td>482637</td>\n",
       "    </tr>\n",
       "    <tr>\n",
       "      <th>aperitif</th>\n",
       "      <td>0.007703</td>\n",
       "      <td>0.004006</td>\n",
       "      <td>289</td>\n",
       "      <td>37230</td>\n",
       "      <td>1941</td>\n",
       "      <td>482637</td>\n",
       "    </tr>\n",
       "    <tr>\n",
       "      <th>entree</th>\n",
       "      <td>0.003133</td>\n",
       "      <td>0.001659</td>\n",
       "      <td>117</td>\n",
       "      <td>37230</td>\n",
       "      <td>802</td>\n",
       "      <td>482637</td>\n",
       "    </tr>\n",
       "    <tr>\n",
       "      <th>plat</th>\n",
       "      <td>0.004891</td>\n",
       "      <td>0.003851</td>\n",
       "      <td>183</td>\n",
       "      <td>37230</td>\n",
       "      <td>1866</td>\n",
       "      <td>482637</td>\n",
       "    </tr>\n",
       "    <tr>\n",
       "      <th>dessert</th>\n",
       "      <td>0.000671</td>\n",
       "      <td>0.008859</td>\n",
       "      <td>25</td>\n",
       "      <td>37230</td>\n",
       "      <td>4314</td>\n",
       "      <td>482637</td>\n",
       "    </tr>\n",
       "    <tr>\n",
       "      <th>sauce</th>\n",
       "      <td>0.047485</td>\n",
       "      <td>0.027518</td>\n",
       "      <td>1856</td>\n",
       "      <td>37230</td>\n",
       "      <td>13657</td>\n",
       "      <td>482637</td>\n",
       "    </tr>\n",
       "    <tr>\n",
       "      <th>peucher</th>\n",
       "      <td>0.806597</td>\n",
       "      <td>0.799219</td>\n",
       "      <td>32134</td>\n",
       "      <td>37230</td>\n",
       "      <td>387818</td>\n",
       "      <td>482637</td>\n",
       "    </tr>\n",
       "    <tr>\n",
       "      <th>prixmoyen</th>\n",
       "      <td>0.179347</td>\n",
       "      <td>0.181879</td>\n",
       "      <td>7145</td>\n",
       "      <td>37230</td>\n",
       "      <td>88256</td>\n",
       "      <td>482637</td>\n",
       "    </tr>\n",
       "    <tr>\n",
       "      <th>cher</th>\n",
       "      <td>0.014006</td>\n",
       "      <td>0.014712</td>\n",
       "      <td>558</td>\n",
       "      <td>37230</td>\n",
       "      <td>7139</td>\n",
       "      <td>482637</td>\n",
       "    </tr>\n",
       "    <tr>\n",
       "      <th>peudifficile</th>\n",
       "      <td>0.609729</td>\n",
       "      <td>0.504989</td>\n",
       "      <td>24291</td>\n",
       "      <td>37230</td>\n",
       "      <td>245044</td>\n",
       "      <td>482637</td>\n",
       "    </tr>\n",
       "    <tr>\n",
       "      <th>difficultemoyenne</th>\n",
       "      <td>0.364241</td>\n",
       "      <td>0.410757</td>\n",
       "      <td>14511</td>\n",
       "      <td>37230</td>\n",
       "      <td>199318</td>\n",
       "      <td>482637</td>\n",
       "    </tr>\n",
       "    <tr>\n",
       "      <th>difficile</th>\n",
       "      <td>0.026030</td>\n",
       "      <td>0.084095</td>\n",
       "      <td>1037</td>\n",
       "      <td>37230</td>\n",
       "      <td>40807</td>\n",
       "      <td>482637</td>\n",
       "    </tr>\n",
       "    <tr>\n",
       "      <th>mauvaisenote</th>\n",
       "      <td>0.498180</td>\n",
       "      <td>0.408890</td>\n",
       "      <td>19847</td>\n",
       "      <td>37230</td>\n",
       "      <td>198412</td>\n",
       "      <td>482637</td>\n",
       "    </tr>\n",
       "    <tr>\n",
       "      <th>notemoyenne</th>\n",
       "      <td>0.482542</td>\n",
       "      <td>0.565861</td>\n",
       "      <td>19224</td>\n",
       "      <td>37230</td>\n",
       "      <td>274582</td>\n",
       "      <td>482637</td>\n",
       "    </tr>\n",
       "    <tr>\n",
       "      <th>bonnenote</th>\n",
       "      <td>0.019278</td>\n",
       "      <td>0.025233</td>\n",
       "      <td>768</td>\n",
       "      <td>37230</td>\n",
       "      <td>12244</td>\n",
       "      <td>482637</td>\n",
       "    </tr>\n",
       "    <tr>\n",
       "      <th>peupreparation</th>\n",
       "      <td>0.339868</td>\n",
       "      <td>0.320118</td>\n",
       "      <td>13540</td>\n",
       "      <td>37230</td>\n",
       "      <td>155336</td>\n",
       "      <td>482637</td>\n",
       "    </tr>\n",
       "    <tr>\n",
       "      <th>preparationmoyenne</th>\n",
       "      <td>0.516780</td>\n",
       "      <td>0.460334</td>\n",
       "      <td>20588</td>\n",
       "      <td>37230</td>\n",
       "      <td>223375</td>\n",
       "      <td>482637</td>\n",
       "    </tr>\n",
       "    <tr>\n",
       "      <th>bcppreparation</th>\n",
       "      <td>0.143352</td>\n",
       "      <td>0.362686</td>\n",
       "      <td>5711</td>\n",
       "      <td>37230</td>\n",
       "      <td>175992</td>\n",
       "      <td>482637</td>\n",
       "    </tr>\n",
       "    <tr>\n",
       "      <th>peucuisson</th>\n",
       "      <td>0.333317</td>\n",
       "      <td>0.388182</td>\n",
       "      <td>13279</td>\n",
       "      <td>37230</td>\n",
       "      <td>188364</td>\n",
       "      <td>482637</td>\n",
       "    </tr>\n",
       "    <tr>\n",
       "      <th>cuissonmoyenne</th>\n",
       "      <td>0.433118</td>\n",
       "      <td>0.369806</td>\n",
       "      <td>17255</td>\n",
       "      <td>37230</td>\n",
       "      <td>179447</td>\n",
       "      <td>482637</td>\n",
       "    </tr>\n",
       "    <tr>\n",
       "      <th>bcpcuisson</th>\n",
       "      <td>0.313085</td>\n",
       "      <td>0.323928</td>\n",
       "      <td>12473</td>\n",
       "      <td>37230</td>\n",
       "      <td>157185</td>\n",
       "      <td>482637</td>\n",
       "    </tr>\n",
       "  </tbody>\n",
       "</table>\n",
       "</div>"
      ],
      "text/plain": [
       "                        test    temoin  test&category  nbtest  \\\n",
       "viande              0.065489  0.035220           2609   37230   \n",
       "poisson             0.033865  0.009030           1305   37230   \n",
       "legume              0.254326  0.165200          12698   37230   \n",
       "fruit               0.001207  0.003609             45   37230   \n",
       "oeuf                0.192898  0.136538           8898   37230   \n",
       "cocktail            0.001609  0.004458             60   37230   \n",
       "aperitif            0.007703  0.004006            289   37230   \n",
       "entree              0.003133  0.001659            117   37230   \n",
       "plat                0.004891  0.003851            183   37230   \n",
       "dessert             0.000671  0.008859             25   37230   \n",
       "sauce               0.047485  0.027518           1856   37230   \n",
       "peucher             0.806597  0.799219          32134   37230   \n",
       "prixmoyen           0.179347  0.181879           7145   37230   \n",
       "cher                0.014006  0.014712            558   37230   \n",
       "peudifficile        0.609729  0.504989          24291   37230   \n",
       "difficultemoyenne   0.364241  0.410757          14511   37230   \n",
       "difficile           0.026030  0.084095           1037   37230   \n",
       "mauvaisenote        0.498180  0.408890          19847   37230   \n",
       "notemoyenne         0.482542  0.565861          19224   37230   \n",
       "bonnenote           0.019278  0.025233            768   37230   \n",
       "peupreparation      0.339868  0.320118          13540   37230   \n",
       "preparationmoyenne  0.516780  0.460334          20588   37230   \n",
       "bcppreparation      0.143352  0.362686           5711   37230   \n",
       "peucuisson          0.333317  0.388182          13279   37230   \n",
       "cuissonmoyenne      0.433118  0.369806          17255   37230   \n",
       "bcpcuisson          0.313085  0.323928          12473   37230   \n",
       "\n",
       "                    temoin&category  nbtemoin  \n",
       "viande                        17619    482637  \n",
       "poisson                        4398    482637  \n",
       "legume                        95510    482637  \n",
       "fruit                          1748    482637  \n",
       "oeuf                          76319    482637  \n",
       "cocktail                       2161    482637  \n",
       "aperitif                       1941    482637  \n",
       "entree                          802    482637  \n",
       "plat                           1866    482637  \n",
       "dessert                        4314    482637  \n",
       "sauce                         13657    482637  \n",
       "peucher                      387818    482637  \n",
       "prixmoyen                     88256    482637  \n",
       "cher                           7139    482637  \n",
       "peudifficile                 245044    482637  \n",
       "difficultemoyenne            199318    482637  \n",
       "difficile                     40807    482637  \n",
       "mauvaisenote                 198412    482637  \n",
       "notemoyenne                  274582    482637  \n",
       "bonnenote                     12244    482637  \n",
       "peupreparation               155336    482637  \n",
       "preparationmoyenne           223375    482637  \n",
       "bcppreparation               175992    482637  \n",
       "peucuisson                   188364    482637  \n",
       "cuissonmoyenne               179447    482637  \n",
       "bcpcuisson                   157185    482637  "
      ]
     },
     "execution_count": 148,
     "metadata": {},
     "output_type": "execute_result"
    }
   ],
   "source": [
    "df"
   ]
  },
  {
   "cell_type": "code",
   "execution_count": 149,
   "metadata": {
    "collapsed": false
   },
   "outputs": [],
   "source": [
    "#Création du fichier excel\n",
    "import sys\n",
    "reload(sys)\n",
    "sys.setdefaultencoding(\"utf-8\")\n",
    "\n",
    "writer = pd.ExcelWriter('results.xlsx', engine='xlsxwriter')\n",
    "df.to_excel(writer, sheet_name='results')\n",
    "writer.save()"
   ]
  }
 ],
 "metadata": {
  "kernelspec": {
   "display_name": "Python 2",
   "language": "python",
   "name": "python2"
  },
  "language_info": {
   "codemirror_mode": {
    "name": "ipython",
    "version": 2
   },
   "file_extension": ".py",
   "mimetype": "text/x-python",
   "name": "python",
   "nbconvert_exporter": "python",
   "pygments_lexer": "ipython2",
   "version": "2.7.10"
  }
 },
 "nbformat": 4,
 "nbformat_minor": 0
}
